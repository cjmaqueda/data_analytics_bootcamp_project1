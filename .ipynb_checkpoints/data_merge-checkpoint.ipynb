{
 "cells": [
  {
   "cell_type": "code",
   "execution_count": 1,
   "metadata": {},
   "outputs": [],
   "source": [
    "#import dependencies\n",
    "import pandas as pd\n",
    "import numpy as np\n",
    "import csv"
   ]
  },
  {
   "cell_type": "code",
   "execution_count": 2,
   "metadata": {},
   "outputs": [],
   "source": [
    "#Create DataFrame for the Nitrate data\n",
    "nitrate = pd.read_csv('Contaminants/nitrate.txt', low_memory = False, delimiter = '\\t')\n",
    "\n",
    "#only include rows that are nont NaN in the Value column\n",
    "nitrate = nitrate[nitrate['Value'].notnull()]\n",
    "\n",
    "#Create DataFrame for csv with detailed station location data\n",
    "station_data = pd.read_csv('water_system_summary.csv')"
   ]
  },
  {
   "cell_type": "code",
   "execution_count": 5,
   "metadata": {},
   "outputs": [
    {
     "data": {
      "text/html": [
       "<div>\n",
       "<style scoped>\n",
       "    .dataframe tbody tr th:only-of-type {\n",
       "        vertical-align: middle;\n",
       "    }\n",
       "\n",
       "    .dataframe tbody tr th {\n",
       "        vertical-align: top;\n",
       "    }\n",
       "\n",
       "    .dataframe thead th {\n",
       "        text-align: right;\n",
       "    }\n",
       "</style>\n",
       "<table border=\"1\" class=\"dataframe\">\n",
       "  <thead>\n",
       "    <tr style=\"text-align: right;\">\n",
       "      <th></th>\n",
       "      <th>Analyte ID</th>\n",
       "      <th>Analyte Name</th>\n",
       "      <th>State Code</th>\n",
       "      <th>PWSID</th>\n",
       "      <th>System Name</th>\n",
       "      <th>System Type</th>\n",
       "      <th>Retail Population Served</th>\n",
       "      <th>Adjusted Total Population Served</th>\n",
       "      <th>Source Water Type</th>\n",
       "      <th>Water Facility ID</th>\n",
       "      <th>...</th>\n",
       "      <th>Sample Collection Date</th>\n",
       "      <th>Detection Limit Value</th>\n",
       "      <th>Detection Limit Unit</th>\n",
       "      <th>Detection Limit Code</th>\n",
       "      <th>Detect</th>\n",
       "      <th>Value</th>\n",
       "      <th>Unit</th>\n",
       "      <th>Presence Indicator Code</th>\n",
       "      <th>Residual Field Free Chlorine mg/L</th>\n",
       "      <th>Residual Field Total Chlorine mg/L</th>\n",
       "    </tr>\n",
       "  </thead>\n",
       "  <tbody>\n",
       "    <tr>\n",
       "      <th>0</th>\n",
       "      <td>1040</td>\n",
       "      <td>NITRATE</td>\n",
       "      <td>AL</td>\n",
       "      <td>AL0000702</td>\n",
       "      <td>TAYLOR WATER SYSTEM</td>\n",
       "      <td>C</td>\n",
       "      <td>8208</td>\n",
       "      <td>8208</td>\n",
       "      <td>GW</td>\n",
       "      <td>728</td>\n",
       "      <td>...</td>\n",
       "      <td>2010-06-28 00:00:00.000</td>\n",
       "      <td>0.0</td>\n",
       "      <td>NaN</td>\n",
       "      <td>MDL</td>\n",
       "      <td>1</td>\n",
       "      <td>0.16</td>\n",
       "      <td>MG/L</td>\n",
       "      <td>NaN</td>\n",
       "      <td>NaN</td>\n",
       "      <td>NaN</td>\n",
       "    </tr>\n",
       "  </tbody>\n",
       "</table>\n",
       "<p>1 rows × 28 columns</p>\n",
       "</div>"
      ],
      "text/plain": [
       "   Analyte ID Analyte Name State Code       PWSID          System Name  \\\n",
       "0        1040      NITRATE         AL  AL0000702   TAYLOR WATER SYSTEM   \n",
       "\n",
       "  System Type  Retail Population Served  Adjusted Total Population Served  \\\n",
       "0        C                         8208                              8208   \n",
       "\n",
       "  Source Water Type  Water Facility ID                 ...                  \\\n",
       "0               GW                 728                 ...                   \n",
       "\n",
       "    Sample Collection Date  Detection Limit Value Detection Limit Unit  \\\n",
       "0  2010-06-28 00:00:00.000                    0.0                  NaN   \n",
       "\n",
       "  Detection Limit Code Detect Value       Unit  Presence Indicator Code  \\\n",
       "0                  MDL      1  0.16  MG/L                           NaN   \n",
       "\n",
       "  Residual Field Free Chlorine mg/L  Residual Field Total Chlorine mg/L  \n",
       "0                               NaN                                 NaN  \n",
       "\n",
       "[1 rows x 28 columns]"
      ]
     },
     "execution_count": 5,
     "metadata": {},
     "output_type": "execute_result"
    }
   ],
   "source": [
    "nitrate.head(1)"
   ]
  },
  {
   "cell_type": "code",
   "execution_count": 6,
   "metadata": {},
   "outputs": [
    {
     "data": {
      "text/html": [
       "<div>\n",
       "<style scoped>\n",
       "    .dataframe tbody tr th:only-of-type {\n",
       "        vertical-align: middle;\n",
       "    }\n",
       "\n",
       "    .dataframe tbody tr th {\n",
       "        vertical-align: top;\n",
       "    }\n",
       "\n",
       "    .dataframe thead th {\n",
       "        text-align: right;\n",
       "    }\n",
       "</style>\n",
       "<table border=\"1\" class=\"dataframe\">\n",
       "  <thead>\n",
       "    <tr style=\"text-align: right;\">\n",
       "      <th></th>\n",
       "      <th>PWS ID</th>\n",
       "      <th>PWS Name</th>\n",
       "      <th>EPA Region</th>\n",
       "      <th>Primacy Agency</th>\n",
       "      <th>PWS Type</th>\n",
       "      <th>Population Served Count</th>\n",
       "      <th>Cities Served</th>\n",
       "      <th>Counties Served</th>\n",
       "      <th># of Facilities</th>\n",
       "      <th># of Violations</th>\n",
       "      <th># of Site Visits</th>\n",
       "    </tr>\n",
       "  </thead>\n",
       "  <tbody>\n",
       "    <tr>\n",
       "      <th>0</th>\n",
       "      <td>IL3119792</td>\n",
       "      <td>PROFESSIONAL CONCRETE AND PAVING</td>\n",
       "      <td>Region 5</td>\n",
       "      <td>Illinois</td>\n",
       "      <td>Transient non-community system</td>\n",
       "      <td>30</td>\n",
       "      <td>-</td>\n",
       "      <td>DuPage</td>\n",
       "      <td>3</td>\n",
       "      <td>1</td>\n",
       "      <td>11</td>\n",
       "    </tr>\n",
       "  </tbody>\n",
       "</table>\n",
       "</div>"
      ],
      "text/plain": [
       "      PWS ID                          PWS Name EPA Region Primacy Agency  \\\n",
       "0  IL3119792  PROFESSIONAL CONCRETE AND PAVING   Region 5       Illinois   \n",
       "\n",
       "                         PWS Type Population Served Count Cities Served  \\\n",
       "0  Transient non-community system                      30             -   \n",
       "\n",
       "  Counties Served  # of Facilities  # of Violations  # of Site Visits  \n",
       "0          DuPage                3                1                11  "
      ]
     },
     "execution_count": 6,
     "metadata": {},
     "output_type": "execute_result"
    }
   ],
   "source": [
    "station_data.head(1)"
   ]
  },
  {
   "cell_type": "code",
   "execution_count": 18,
   "metadata": {},
   "outputs": [],
   "source": [
    "#merging on PWSID data\n",
    "#\"PWSID\" in nitrate, \"PWDID\" in station_data\n",
    "full_nitrate_data = pd.merge(nitrate, station_data, how = \"left\",\n",
    "                            left_on = \"PWSID\", right_on = \"PWS ID\")"
   ]
  },
  {
   "cell_type": "code",
   "execution_count": 33,
   "metadata": {},
   "outputs": [],
   "source": [
    "full_nitrate_data = full_nitrate_data[[\n",
    "    'Analyte ID',\n",
    "    'Analyte Name',\n",
    "    'State Code',\n",
    "    'EPA Region',\n",
    "    'Cities Served',\n",
    "    'Counties Served',\n",
    "    'PWSID',\n",
    "    'PWS Name',\n",
    "    'PWS Type',\n",
    "    'System Name',\n",
    "    'System Type',\n",
    "    'Retail Population Served',\n",
    "    'Source Water Type',\n",
    "    'Water Facility Type',\n",
    "    'Sampling Point Type',\n",
    "    'Sample Collection Date',\n",
    "    'Value',\n",
    "    'Unit',\n",
    "    'Detection Limit Value',\n",
    "    'Detection Limit Unit',\n",
    "    'Detection Limit Code',\n",
    "]]"
   ]
  },
  {
   "cell_type": "code",
   "execution_count": 34,
   "metadata": {},
   "outputs": [
    {
     "data": {
      "text/plain": [
       "WL    200945\n",
       "TP    185608\n",
       "SS    158358\n",
       "DS     22377\n",
       "SP      9000\n",
       "RS      4383\n",
       "CH      3240\n",
       "OT      2995\n",
       "TM      1716\n",
       "CC      1606\n",
       "ST       847\n",
       "PF       651\n",
       "CW       539\n",
       "IN       438\n",
       "WH       438\n",
       "XX        96\n",
       "PC        36\n",
       "IG         1\n",
       "CS         1\n",
       "Name: Water Facility Type, dtype: int64"
      ]
     },
     "execution_count": 34,
     "metadata": {},
     "output_type": "execute_result"
    }
   ],
   "source": [
    "full_nitrate_data['Water Facility Type'].value_counts()"
   ]
  },
  {
   "cell_type": "code",
   "execution_count": null,
   "metadata": {},
   "outputs": [],
   "source": []
  }
 ],
 "metadata": {
  "kernelspec": {
   "display_name": "Python 3",
   "language": "python",
   "name": "python3"
  },
  "language_info": {
   "codemirror_mode": {
    "name": "ipython",
    "version": 3
   },
   "file_extension": ".py",
   "mimetype": "text/x-python",
   "name": "python",
   "nbconvert_exporter": "python",
   "pygments_lexer": "ipython3",
   "version": "3.7.1"
  }
 },
 "nbformat": 4,
 "nbformat_minor": 2
}
