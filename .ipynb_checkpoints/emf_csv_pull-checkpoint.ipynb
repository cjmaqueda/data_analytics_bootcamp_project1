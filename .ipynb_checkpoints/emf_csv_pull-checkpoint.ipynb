{
 "cells": [
  {
   "cell_type": "code",
   "execution_count": 2,
   "metadata": {},
   "outputs": [],
   "source": [
    "import pandas as pd\n",
    "import csv"
   ]
  },
  {
   "cell_type": "code",
   "execution_count": 32,
   "metadata": {},
   "outputs": [],
   "source": [
    "nitrate = pd.read_csv('Contaminants/nitrate.txt', low_memory = False, delimiter = '\\t')"
   ]
  },
  {
   "cell_type": "code",
   "execution_count": 33,
   "metadata": {},
   "outputs": [
    {
     "name": "stdout",
     "output_type": "stream",
     "text": [
      "<class 'pandas.core.frame.DataFrame'>\n",
      "RangeIndex: 1157522 entries, 0 to 1157521\n",
      "Data columns (total 28 columns):\n",
      "Analyte ID                            1157522 non-null int64\n",
      "Analyte Name                          1157522 non-null object\n",
      "State Code                            1157521 non-null object\n",
      "PWSID                                 1157522 non-null object\n",
      "System Name                           1157522 non-null object\n",
      "System Type                           1155993 non-null object\n",
      "Retail Population Served              1157522 non-null int64\n",
      "Adjusted Total Population Served      1157522 non-null int64\n",
      "Source Water Type                     1157522 non-null object\n",
      "Water Facility ID                     1157522 non-null int64\n",
      "Water Facility Type                   910377 non-null object\n",
      "Sampling Point ID                     1157522 non-null int64\n",
      "Sampling Point Type                   628590 non-null object\n",
      "Source Type Code                      668006 non-null object\n",
      "Sample Type Code                      783549 non-null object\n",
      "Laboratory Assigned ID                570993 non-null object\n",
      "Six Year ID                           1157522 non-null int64\n",
      "Sample ID                             574493 non-null float64\n",
      "Sample Collection Date                1157522 non-null object\n",
      "Detection Limit Value                 923919 non-null float64\n",
      "Detection Limit Unit                  737509 non-null object\n",
      "Detection Limit Code                  904965 non-null object\n",
      "Detect                                1157522 non-null int64\n",
      "Value                                 710760 non-null float64\n",
      "Unit                                  710760 non-null object\n",
      "Presence Indicator Code               0 non-null float64\n",
      "Residual Field Free Chlorine mg/L     39952 non-null float64\n",
      "Residual Field Total Chlorine mg/L    5169 non-null float64\n",
      "dtypes: float64(6), int64(7), object(15)\n",
      "memory usage: 247.3+ MB\n"
     ]
    }
   ],
   "source": [
    "nitrate.info()"
   ]
  },
  {
   "cell_type": "code",
   "execution_count": 36,
   "metadata": {},
   "outputs": [],
   "source": [
    "no_na_test = nitrate.iloc[:,0:25].dropna()"
   ]
  },
  {
   "cell_type": "code",
   "execution_count": 37,
   "metadata": {},
   "outputs": [
    {
     "data": {
      "text/html": [
       "<div>\n",
       "<style scoped>\n",
       "    .dataframe tbody tr th:only-of-type {\n",
       "        vertical-align: middle;\n",
       "    }\n",
       "\n",
       "    .dataframe tbody tr th {\n",
       "        vertical-align: top;\n",
       "    }\n",
       "\n",
       "    .dataframe thead th {\n",
       "        text-align: right;\n",
       "    }\n",
       "</style>\n",
       "<table border=\"1\" class=\"dataframe\">\n",
       "  <thead>\n",
       "    <tr style=\"text-align: right;\">\n",
       "      <th></th>\n",
       "      <th>Analyte ID</th>\n",
       "      <th>Analyte Name</th>\n",
       "      <th>State Code</th>\n",
       "      <th>PWSID</th>\n",
       "      <th>System Name</th>\n",
       "      <th>System Type</th>\n",
       "      <th>Retail Population Served</th>\n",
       "      <th>Adjusted Total Population Served</th>\n",
       "      <th>Source Water Type</th>\n",
       "      <th>Water Facility ID</th>\n",
       "      <th>...</th>\n",
       "      <th>Laboratory Assigned ID</th>\n",
       "      <th>Six Year ID</th>\n",
       "      <th>Sample ID</th>\n",
       "      <th>Sample Collection Date</th>\n",
       "      <th>Detection Limit Value</th>\n",
       "      <th>Detection Limit Unit</th>\n",
       "      <th>Detection Limit Code</th>\n",
       "      <th>Detect</th>\n",
       "      <th>Value</th>\n",
       "      <th>Unit</th>\n",
       "    </tr>\n",
       "  </thead>\n",
       "  <tbody>\n",
       "    <tr>\n",
       "      <th>3</th>\n",
       "      <td>1040</td>\n",
       "      <td>NITRATE</td>\n",
       "      <td>AL</td>\n",
       "      <td>AL0000702</td>\n",
       "      <td>TAYLOR WATER SYSTEM</td>\n",
       "      <td>C</td>\n",
       "      <td>8208</td>\n",
       "      <td>8208</td>\n",
       "      <td>GW</td>\n",
       "      <td>728</td>\n",
       "      <td>...</td>\n",
       "      <td>060119058-002</td>\n",
       "      <td>1069</td>\n",
       "      <td>68416.0</td>\n",
       "      <td>2006-01-18 00:00:00.000</td>\n",
       "      <td>0.0</td>\n",
       "      <td>MG/L</td>\n",
       "      <td>MDL</td>\n",
       "      <td>1</td>\n",
       "      <td>0.14</td>\n",
       "      <td>MG/L</td>\n",
       "    </tr>\n",
       "  </tbody>\n",
       "</table>\n",
       "<p>1 rows × 25 columns</p>\n",
       "</div>"
      ],
      "text/plain": [
       "   Analyte ID Analyte Name State Code       PWSID          System Name  \\\n",
       "3        1040      NITRATE         AL  AL0000702   TAYLOR WATER SYSTEM   \n",
       "\n",
       "  System Type  Retail Population Served  Adjusted Total Population Served  \\\n",
       "3        C                         8208                              8208   \n",
       "\n",
       "  Source Water Type  Water Facility ID    ...     Laboratory Assigned ID  \\\n",
       "3               GW                 728    ...              060119058-002   \n",
       "\n",
       "   Six Year ID Sample ID   Sample Collection Date Detection Limit Value  \\\n",
       "3         1069   68416.0  2006-01-18 00:00:00.000                   0.0   \n",
       "\n",
       "  Detection Limit Unit  Detection Limit Code  Detect Value       Unit  \n",
       "3                 MG/L                   MDL       1  0.14  MG/L       \n",
       "\n",
       "[1 rows x 25 columns]"
      ]
     },
     "execution_count": 37,
     "metadata": {},
     "output_type": "execute_result"
    }
   ],
   "source": [
    "no_na_test.head(1)"
   ]
  },
  {
   "cell_type": "code",
   "execution_count": 38,
   "metadata": {},
   "outputs": [
    {
     "data": {
      "text/plain": [
       "{'AK',\n",
       " 'AL',\n",
       " 'AZ',\n",
       " 'CT',\n",
       " 'FL',\n",
       " 'HI',\n",
       " 'IA',\n",
       " 'ID',\n",
       " 'IL',\n",
       " 'IM',\n",
       " 'IN',\n",
       " 'KS',\n",
       " 'KY',\n",
       " 'LA',\n",
       " 'ME',\n",
       " 'MI',\n",
       " 'MN',\n",
       " 'MT',\n",
       " 'NC',\n",
       " 'NJ',\n",
       " 'NM',\n",
       " 'NV',\n",
       " 'NY',\n",
       " 'OH',\n",
       " 'OK',\n",
       " 'OR',\n",
       " 'RI',\n",
       " 'SC',\n",
       " 'SD',\n",
       " 'UT',\n",
       " 'VA',\n",
       " 'VT',\n",
       " 'WI',\n",
       " 'WV',\n",
       " 'WY'}"
      ]
     },
     "execution_count": 38,
     "metadata": {},
     "output_type": "execute_result"
    }
   ],
   "source": [
    "set(no_na_test['State Code'])"
   ]
  },
  {
   "cell_type": "code",
   "execution_count": null,
   "metadata": {},
   "outputs": [],
   "source": []
  }
 ],
 "metadata": {
  "kernelspec": {
   "display_name": "Python 3",
   "language": "python",
   "name": "python3"
  },
  "language_info": {
   "codemirror_mode": {
    "name": "ipython",
    "version": 3
   },
   "file_extension": ".py",
   "mimetype": "text/x-python",
   "name": "python",
   "nbconvert_exporter": "python",
   "pygments_lexer": "ipython3",
   "version": "3.7.1"
  }
 },
 "nbformat": 4,
 "nbformat_minor": 2
}
