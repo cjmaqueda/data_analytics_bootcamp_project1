{
 "cells": [
  {
   "cell_type": "code",
   "execution_count": 1,
   "metadata": {},
   "outputs": [],
   "source": [
    "import pandas as pd"
   ]
  },
  {
   "cell_type": "code",
   "execution_count": 3,
   "metadata": {},
   "outputs": [],
   "source": [
    "mort = pd.read_csv('mortality_data.csv')"
   ]
  },
  {
   "cell_type": "code",
   "execution_count": 5,
   "metadata": {},
   "outputs": [
    {
     "data": {
      "text/plain": [
       "array(['Neonatal disorders', 'HIV/AIDS and tuberculosis',\n",
       "       'Musculoskeletal disorders',\n",
       "       'Diabetes, urogenital, blood, and endocrine diseases',\n",
       "       'Digestive diseases', 'Chronic respiratory diseases',\n",
       "       'Neurological disorders',\n",
       "       'Cirrhosis and other chronic liver diseases',\n",
       "       'Mental and substance use disorders',\n",
       "       'Forces of nature, war, and legal intervention',\n",
       "       'Unintentional injuries', 'Nutritional deficiencies',\n",
       "       'Other communicable, maternal, neonatal, and nutritional diseases',\n",
       "       'Cardiovascular diseases',\n",
       "       'Diarrhea, lower respiratory, and other common infectious diseases',\n",
       "       'Maternal disorders', 'Other non-communicable diseases',\n",
       "       'Self-harm and interpersonal violence', 'Neoplasms',\n",
       "       'Transport injuries', 'Neglected tropical diseases and malaria'],\n",
       "      dtype=object)"
      ]
     },
     "execution_count": 5,
     "metadata": {},
     "output_type": "execute_result"
    }
   ],
   "source": [
    "mort['Category'].unique()"
   ]
  },
  {
   "cell_type": "code",
   "execution_count": 6,
   "metadata": {},
   "outputs": [
    {
     "data": {
      "text/plain": [
       "{'Cardiovascular diseases',\n",
       " 'Chronic respiratory diseases',\n",
       " 'Cirrhosis and other chronic liver diseases',\n",
       " 'Diabetes, urogenital, blood, and endocrine diseases',\n",
       " 'Diarrhea, lower respiratory, and other common infectious diseases',\n",
       " 'Digestive diseases',\n",
       " 'Forces of nature, war, and legal intervention',\n",
       " 'HIV/AIDS and tuberculosis',\n",
       " 'Maternal disorders',\n",
       " 'Mental and substance use disorders',\n",
       " 'Musculoskeletal disorders',\n",
       " 'Neglected tropical diseases and malaria',\n",
       " 'Neonatal disorders',\n",
       " 'Neoplasms',\n",
       " 'Neurological disorders',\n",
       " 'Nutritional deficiencies',\n",
       " 'Other communicable, maternal, neonatal, and nutritional diseases',\n",
       " 'Other non-communicable diseases',\n",
       " 'Self-harm and interpersonal violence',\n",
       " 'Transport injuries',\n",
       " 'Unintentional injuries'}"
      ]
     },
     "execution_count": 6,
     "metadata": {},
     "output_type": "execute_result"
    }
   ],
   "source": [
    "set(mort['Category'])"
   ]
  },
  {
   "cell_type": "code",
   "execution_count": null,
   "metadata": {},
   "outputs": [],
   "source": []
  }
 ],
 "metadata": {
  "kernelspec": {
   "display_name": "Python 3",
   "language": "python",
   "name": "python3"
  },
  "language_info": {
   "codemirror_mode": {
    "name": "ipython",
    "version": 3
   },
   "file_extension": ".py",
   "mimetype": "text/x-python",
   "name": "python",
   "nbconvert_exporter": "python",
   "pygments_lexer": "ipython3",
   "version": "3.7.1"
  }
 },
 "nbformat": 4,
 "nbformat_minor": 2
}
