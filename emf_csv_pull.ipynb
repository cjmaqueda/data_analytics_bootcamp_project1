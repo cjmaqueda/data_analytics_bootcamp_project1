{
 "cells": [
  {
   "cell_type": "code",
   "execution_count": 2,
   "metadata": {},
   "outputs": [],
   "source": [
    "import pandas as pd\n",
    "import numpy as np"
   ]
  },
  {
   "cell_type": "code",
   "execution_count": 32,
   "metadata": {},
   "outputs": [],
   "source": [
    "nitrate = pd.read_csv('Contaminants/nitrate.txt', low_memory = False, delimiter = '\\t')"
   ]
  },
  {
   "cell_type": "code",
   "execution_count": 66,
   "metadata": {},
   "outputs": [],
   "source": [
    "nitrate_values = nitrate[nitrate['Value'].notnull()]\n",
    "#does this correctly exclude NaN values?"
   ]
  },
  {
   "cell_type": "code",
   "execution_count": 71,
   "metadata": {},
   "outputs": [
    {
     "data": {
      "text/plain": [
       "50"
      ]
     },
     "execution_count": 71,
     "metadata": {},
     "output_type": "execute_result"
    }
   ],
   "source": [
    "len(set(nitrate_values['State Code']))"
   ]
  },
  {
   "cell_type": "code",
   "execution_count": 53,
   "metadata": {},
   "outputs": [
    {
     "name": "stdout",
     "output_type": "stream",
     "text": [
      "<class 'pandas.core.frame.DataFrame'>\n",
      "RangeIndex: 1157522 entries, 0 to 1157521\n",
      "Data columns (total 28 columns):\n",
      "Analyte ID                            1157522 non-null int64\n",
      "Analyte Name                          1157522 non-null object\n",
      "State Code                            1157521 non-null object\n",
      "PWSID                                 1157522 non-null object\n",
      "System Name                           1157522 non-null object\n",
      "System Type                           1155993 non-null object\n",
      "Retail Population Served              1157522 non-null int64\n",
      "Adjusted Total Population Served      1157522 non-null int64\n",
      "Source Water Type                     1157522 non-null object\n",
      "Water Facility ID                     1157522 non-null int64\n",
      "Water Facility Type                   910377 non-null object\n",
      "Sampling Point ID                     1157522 non-null int64\n",
      "Sampling Point Type                   628590 non-null object\n",
      "Source Type Code                      668006 non-null object\n",
      "Sample Type Code                      783549 non-null object\n",
      "Laboratory Assigned ID                570993 non-null object\n",
      "Six Year ID                           1157522 non-null int64\n",
      "Sample ID                             574493 non-null float64\n",
      "Sample Collection Date                1157522 non-null object\n",
      "Detection Limit Value                 923919 non-null float64\n",
      "Detection Limit Unit                  737509 non-null object\n",
      "Detection Limit Code                  904965 non-null object\n",
      "Detect                                1157522 non-null int64\n",
      "Value                                 710760 non-null float64\n",
      "Unit                                  710760 non-null object\n",
      "Presence Indicator Code               0 non-null float64\n",
      "Residual Field Free Chlorine mg/L     39952 non-null float64\n",
      "Residual Field Total Chlorine mg/L    5169 non-null float64\n",
      "dtypes: float64(6), int64(7), object(15)\n",
      "memory usage: 247.3+ MB\n"
     ]
    }
   ],
   "source": [
    "nitrate.info()"
   ]
  },
  {
   "cell_type": "markdown",
   "metadata": {},
   "source": [
    "merge with station id data\n",
    "\n",
    "Basic questions on the dataset:\n",
    "-do different states/counties have different date ranges?\n",
    "-what was the sampling frequency\n",
    "-histograms of specific stations?\n"
   ]
  },
  {
   "cell_type": "code",
   "execution_count": null,
   "metadata": {},
   "outputs": [],
   "source": []
  }
 ],
 "metadata": {
  "kernelspec": {
   "display_name": "Python 3",
   "language": "python",
   "name": "python3"
  },
  "language_info": {
   "codemirror_mode": {
    "name": "ipython",
    "version": 3
   },
   "file_extension": ".py",
   "mimetype": "text/x-python",
   "name": "python",
   "nbconvert_exporter": "python",
   "pygments_lexer": "ipython3",
   "version": "3.7.1"
  }
 },
 "nbformat": 4,
 "nbformat_minor": 2
}
